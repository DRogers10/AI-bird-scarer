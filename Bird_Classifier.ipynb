{
  "cells": [
    {
      "cell_type": "code",
      "execution_count": null,
      "metadata": {
        "colab": {
          "base_uri": "https://localhost:8080/"
        },
        "id": "J_SVJV77XAWU",
        "outputId": "8ebd6499-34e1-4d5d-d959-ba772d2f2414"
      },
      "outputs": [
        {
          "output_type": "stream",
          "name": "stdout",
          "text": [
            "Looking in indexes: https://pypi.org/simple, https://us-python.pkg.dev/colab-wheels/public/simple/\n",
            "Requirement already satisfied: tensorflow in /usr/local/lib/python3.7/dist-packages (2.8.2+zzzcolab20220719082949)\n",
            "Collecting tensorflow-gpu\n",
            "  Downloading tensorflow_gpu-2.9.1-cp37-cp37m-manylinux_2_17_x86_64.manylinux2014_x86_64.whl (511.7 MB)\n",
            "\u001b[K     |████████████████████████████████| 511.7 MB 6.4 kB/s \n",
            "\u001b[?25hRequirement already satisfied: opencv-python in /usr/local/lib/python3.7/dist-packages (4.6.0.66)\n",
            "Requirement already satisfied: matplotlib in /usr/local/lib/python3.7/dist-packages (3.2.2)\n",
            "Requirement already satisfied: wrapt>=1.11.0 in /usr/local/lib/python3.7/dist-packages (from tensorflow) (1.14.1)\n",
            "Requirement already satisfied: flatbuffers>=1.12 in /usr/local/lib/python3.7/dist-packages (from tensorflow) (2.0)\n",
            "Requirement already satisfied: keras<2.9,>=2.8.0rc0 in /usr/local/lib/python3.7/dist-packages (from tensorflow) (2.8.0)\n",
            "Requirement already satisfied: google-pasta>=0.1.1 in /usr/local/lib/python3.7/dist-packages (from tensorflow) (0.2.0)\n",
            "Requirement already satisfied: setuptools in /usr/local/lib/python3.7/dist-packages (from tensorflow) (57.4.0)\n",
            "Requirement already satisfied: h5py>=2.9.0 in /usr/local/lib/python3.7/dist-packages (from tensorflow) (3.1.0)\n",
            "Requirement already satisfied: typing-extensions>=3.6.6 in /usr/local/lib/python3.7/dist-packages (from tensorflow) (4.1.1)\n",
            "Requirement already satisfied: tensorboard<2.9,>=2.8 in /usr/local/lib/python3.7/dist-packages (from tensorflow) (2.8.0)\n",
            "Requirement already satisfied: astunparse>=1.6.0 in /usr/local/lib/python3.7/dist-packages (from tensorflow) (1.6.3)\n",
            "Requirement already satisfied: numpy>=1.20 in /usr/local/lib/python3.7/dist-packages (from tensorflow) (1.21.6)\n",
            "Requirement already satisfied: tensorflow-io-gcs-filesystem>=0.23.1 in /usr/local/lib/python3.7/dist-packages (from tensorflow) (0.26.0)\n",
            "Requirement already satisfied: absl-py>=0.4.0 in /usr/local/lib/python3.7/dist-packages (from tensorflow) (1.2.0)\n",
            "Requirement already satisfied: tensorflow-estimator<2.9,>=2.8 in /usr/local/lib/python3.7/dist-packages (from tensorflow) (2.8.0)\n",
            "Requirement already satisfied: libclang>=9.0.1 in /usr/local/lib/python3.7/dist-packages (from tensorflow) (14.0.6)\n",
            "Requirement already satisfied: opt-einsum>=2.3.2 in /usr/local/lib/python3.7/dist-packages (from tensorflow) (3.3.0)\n",
            "Requirement already satisfied: termcolor>=1.1.0 in /usr/local/lib/python3.7/dist-packages (from tensorflow) (1.1.0)\n",
            "Requirement already satisfied: grpcio<2.0,>=1.24.3 in /usr/local/lib/python3.7/dist-packages (from tensorflow) (1.47.0)\n",
            "Requirement already satisfied: keras-preprocessing>=1.1.1 in /usr/local/lib/python3.7/dist-packages (from tensorflow) (1.1.2)\n",
            "Requirement already satisfied: protobuf<3.20,>=3.9.2 in /usr/local/lib/python3.7/dist-packages (from tensorflow) (3.17.3)\n",
            "Requirement already satisfied: gast>=0.2.1 in /usr/local/lib/python3.7/dist-packages (from tensorflow) (0.5.3)\n",
            "Requirement already satisfied: six>=1.12.0 in /usr/local/lib/python3.7/dist-packages (from tensorflow) (1.15.0)\n",
            "Requirement already satisfied: wheel<1.0,>=0.23.0 in /usr/local/lib/python3.7/dist-packages (from astunparse>=1.6.0->tensorflow) (0.37.1)\n",
            "Requirement already satisfied: cached-property in /usr/local/lib/python3.7/dist-packages (from h5py>=2.9.0->tensorflow) (1.5.2)\n",
            "Requirement already satisfied: tensorboard-data-server<0.7.0,>=0.6.0 in /usr/local/lib/python3.7/dist-packages (from tensorboard<2.9,>=2.8->tensorflow) (0.6.1)\n",
            "Requirement already satisfied: google-auth<3,>=1.6.3 in /usr/local/lib/python3.7/dist-packages (from tensorboard<2.9,>=2.8->tensorflow) (1.35.0)\n",
            "Requirement already satisfied: requests<3,>=2.21.0 in /usr/local/lib/python3.7/dist-packages (from tensorboard<2.9,>=2.8->tensorflow) (2.23.0)\n",
            "Requirement already satisfied: markdown>=2.6.8 in /usr/local/lib/python3.7/dist-packages (from tensorboard<2.9,>=2.8->tensorflow) (3.4.1)\n",
            "Requirement already satisfied: werkzeug>=0.11.15 in /usr/local/lib/python3.7/dist-packages (from tensorboard<2.9,>=2.8->tensorflow) (1.0.1)\n",
            "Requirement already satisfied: tensorboard-plugin-wit>=1.6.0 in /usr/local/lib/python3.7/dist-packages (from tensorboard<2.9,>=2.8->tensorflow) (1.8.1)\n",
            "Requirement already satisfied: google-auth-oauthlib<0.5,>=0.4.1 in /usr/local/lib/python3.7/dist-packages (from tensorboard<2.9,>=2.8->tensorflow) (0.4.6)\n",
            "Requirement already satisfied: cachetools<5.0,>=2.0.0 in /usr/local/lib/python3.7/dist-packages (from google-auth<3,>=1.6.3->tensorboard<2.9,>=2.8->tensorflow) (4.2.4)\n",
            "Requirement already satisfied: rsa<5,>=3.1.4 in /usr/local/lib/python3.7/dist-packages (from google-auth<3,>=1.6.3->tensorboard<2.9,>=2.8->tensorflow) (4.9)\n",
            "Requirement already satisfied: pyasn1-modules>=0.2.1 in /usr/local/lib/python3.7/dist-packages (from google-auth<3,>=1.6.3->tensorboard<2.9,>=2.8->tensorflow) (0.2.8)\n",
            "Requirement already satisfied: requests-oauthlib>=0.7.0 in /usr/local/lib/python3.7/dist-packages (from google-auth-oauthlib<0.5,>=0.4.1->tensorboard<2.9,>=2.8->tensorflow) (1.3.1)\n",
            "Requirement already satisfied: importlib-metadata>=4.4 in /usr/local/lib/python3.7/dist-packages (from markdown>=2.6.8->tensorboard<2.9,>=2.8->tensorflow) (4.12.0)\n",
            "Requirement already satisfied: zipp>=0.5 in /usr/local/lib/python3.7/dist-packages (from importlib-metadata>=4.4->markdown>=2.6.8->tensorboard<2.9,>=2.8->tensorflow) (3.8.1)\n",
            "Requirement already satisfied: pyasn1<0.5.0,>=0.4.6 in /usr/local/lib/python3.7/dist-packages (from pyasn1-modules>=0.2.1->google-auth<3,>=1.6.3->tensorboard<2.9,>=2.8->tensorflow) (0.4.8)\n",
            "Requirement already satisfied: chardet<4,>=3.0.2 in /usr/local/lib/python3.7/dist-packages (from requests<3,>=2.21.0->tensorboard<2.9,>=2.8->tensorflow) (3.0.4)\n",
            "Requirement already satisfied: idna<3,>=2.5 in /usr/local/lib/python3.7/dist-packages (from requests<3,>=2.21.0->tensorboard<2.9,>=2.8->tensorflow) (2.10)\n",
            "Requirement already satisfied: certifi>=2017.4.17 in /usr/local/lib/python3.7/dist-packages (from requests<3,>=2.21.0->tensorboard<2.9,>=2.8->tensorflow) (2022.6.15)\n",
            "Requirement already satisfied: urllib3!=1.25.0,!=1.25.1,<1.26,>=1.21.1 in /usr/local/lib/python3.7/dist-packages (from requests<3,>=2.21.0->tensorboard<2.9,>=2.8->tensorflow) (1.24.3)\n",
            "Requirement already satisfied: oauthlib>=3.0.0 in /usr/local/lib/python3.7/dist-packages (from requests-oauthlib>=0.7.0->google-auth-oauthlib<0.5,>=0.4.1->tensorboard<2.9,>=2.8->tensorflow) (3.2.0)\n",
            "  Downloading tensorflow_gpu-2.9.0-cp37-cp37m-manylinux_2_17_x86_64.manylinux2014_x86_64.whl (511.7 MB)\n",
            "\u001b[K     |█████████                       | 142.6 MB 1.3 MB/s eta 0:04:42"
          ]
        }
      ],
      "source": [
        "! pip install tensorflow tensorflow-gpu opencv-python matplotlib"
      ]
    },
    {
      "cell_type": "code",
      "execution_count": null,
      "metadata": {
        "id": "JJQhSmEgsFyj"
      },
      "outputs": [],
      "source": [
        "'tensorflow==2.7.0',\n",
        "'tf-models-official==2.7.0',\n",
        "'tensorflow_io==0.23.1',"
      ]
    },
    {
      "cell_type": "code",
      "execution_count": null,
      "metadata": {
        "id": "M98bR4_hsOOa"
      },
      "outputs": [],
      "source": [
        "!pip install tensorflow==2.8\n",
        "!apt install --allow-change-held-packages libcudnn8=8.1.0.77-1+cuda11.2"
      ]
    },
    {
      "cell_type": "code",
      "execution_count": null,
      "metadata": {
        "id": "1EBQlQL_czks"
      },
      "outputs": [],
      "source": [
        "import os\n",
        "import tensorflow as tf\n",
        "import cv2\n",
        "import imghdr\n",
        "import zipfile\n",
        "import matplotlib.pyplot as plt\n",
        "import numpy as np"
      ]
    },
    {
      "cell_type": "code",
      "execution_count": null,
      "metadata": {
        "id": "xElwOYRDPmJ9"
      },
      "outputs": [],
      "source": [
        "! pip install kaggle"
      ]
    },
    {
      "cell_type": "code",
      "execution_count": null,
      "metadata": {
        "id": "08dCHNkFPyua"
      },
      "outputs": [],
      "source": [
        "! mkdir ~/.kaggle"
      ]
    },
    {
      "cell_type": "code",
      "execution_count": null,
      "metadata": {
        "id": "qfsuOrnaP-Mz"
      },
      "outputs": [],
      "source": [
        "! cp kaggle.json ~/.kaggle/"
      ]
    },
    {
      "cell_type": "code",
      "execution_count": null,
      "metadata": {
        "id": "9OyZMpO9P_jZ"
      },
      "outputs": [],
      "source": [
        "! chmod 600 ~/.kaggle/kaggle.json"
      ]
    },
    {
      "cell_type": "code",
      "execution_count": null,
      "metadata": {
        "id": "ZWTrcPKrQBLE"
      },
      "outputs": [],
      "source": [
        "! kaggle datasets download gpiosenka/100-bird-species"
      ]
    },
    {
      "cell_type": "code",
      "execution_count": null,
      "metadata": {
        "id": "9S0az2AdV_nw"
      },
      "outputs": [],
      "source": [
        "! mkdir \"/content/sorted\"\n",
        "! mkdir \"/content/sorted/birds\"\n",
        "! mkdir \"/content/sorted/misc\"\n",
        "! mkdir \"/content/imgs\"\n",
        "! mkdir \"/content/miscellaneous\""
      ]
    },
    {
      "cell_type": "code",
      "execution_count": null,
      "metadata": {
        "id": "aatZPrm7htbF"
      },
      "outputs": [],
      "source": [
        "with zipfile.ZipFile(\"/content/drive/MyDrive/images.zip\", 'r') as zip_ref:\n",
        "    zip_ref.extractall(\"/content/imgs/miscellaneous/fill\")"
      ]
    },
    {
      "cell_type": "code",
      "execution_count": null,
      "metadata": {
        "id": "cb8J4ddUdPe2"
      },
      "outputs": [],
      "source": [
        "exts = [\"jpeg\", \"jpg\", \"bmp\", \"png\"]\n",
        "count = 0\n",
        "for image_class in os.listdir(\"/content/imgs\"):\n",
        "  for test_train_valid in os.listdir(os.path.join(\"/content/imgs\", image_class)):\n",
        "    if image_class == \"bird_species\" and count >= 3000:\n",
        "      continue\n",
        "    for species in os.listdir(os.path.join(\"/content/imgs\", image_class, test_train_valid)):\n",
        "      for image in os.listdir(os.path.join(\"/content/imgs\", image_class, test_train_valid, species)):\n",
        "        image_path = os.path.join(\"/content/imgs\", image_class, test_train_valid, species, image)\n",
        "        try:\n",
        "          img = cv2.imread(image_path)\n",
        "          tip = imghdr.what(image_path)\n",
        "          if tip not in exts:\n",
        "            os.remove(image_path)\n",
        "            print(\"Not in exts\")\n",
        "          else:\n",
        "            if image_class == \"bird_species\":\n",
        "              if count >= 3000:\n",
        "                continue\n",
        "              count += 1\n",
        "              #print(\"birds\")\n",
        "              os.chdir(\"/content/sorted/birds\")\n",
        "              cv2.imwrite(f\"image{count}.jpg\", img)\n",
        "            elif image_class == \"miscellaneous\":\n",
        "              #print(\"misc\")\n",
        "              os.chdir(\"/content/sorted/misc\")\n",
        "              cv2.imwrite(image, img)\n",
        "        except Exception as e:\n",
        "          print(\"Issue\", e)\n",
        "          #os.remove(image_path)"
      ]
    },
    {
      "cell_type": "code",
      "execution_count": null,
      "metadata": {
        "id": "VLR9pB0_fK0n"
      },
      "outputs": [],
      "source": [
        "import glob\n",
        "print(len(glob.glob(\"/content/sorted/*\")))"
      ]
    },
    {
      "cell_type": "code",
      "execution_count": null,
      "metadata": {
        "id": "LuSf7ro3jM3I"
      },
      "outputs": [],
      "source": [
        "data = tf.keras.utils.image_dataset_from_directory(\"/content/sorted\")"
      ]
    },
    {
      "cell_type": "code",
      "execution_count": null,
      "metadata": {
        "id": "0boVdTAcjmox"
      },
      "outputs": [],
      "source": [
        "data_iterator = data.as_numpy_iterator()"
      ]
    },
    {
      "cell_type": "code",
      "execution_count": null,
      "metadata": {
        "id": "sKnqdKhPju0k"
      },
      "outputs": [],
      "source": [
        "batch = data_iterator.next()\n",
        "print(batch[1])\n",
        "print(plt.imshow(batch[0][0]/255), batch[1][0])\n",
        "plt.show()\n",
        "print(plt.imshow(batch[0][1]/255), batch[1][1])\n",
        "plt.show()\n",
        "print(plt.imshow(batch[0][2]/255), batch[1][2])\n",
        "plt.show()\n",
        "# Bird = 0\n",
        "# Other = 1"
      ]
    },
    {
      "cell_type": "code",
      "execution_count": null,
      "metadata": {
        "id": "fcNn85kJl65G"
      },
      "outputs": [],
      "source": [
        "data = data.map(lambda x,y: (x/255, y))\n",
        "data = data.map(lambda x,y: (x, y))"
      ]
    },
    {
      "cell_type": "code",
      "execution_count": null,
      "metadata": {
        "id": "zSs5g36QmuFg"
      },
      "outputs": [],
      "source": [
        "scaled_iterator = data.as_numpy_iterator()"
      ]
    },
    {
      "cell_type": "code",
      "execution_count": null,
      "metadata": {
        "id": "wkCXpDFnm_vS"
      },
      "outputs": [],
      "source": [
        "batch = scaled_iterator.next()"
      ]
    },
    {
      "cell_type": "code",
      "execution_count": null,
      "metadata": {
        "id": "fIWAtBQ6nXcT"
      },
      "outputs": [],
      "source": [
        "print(len(data))\n",
        "train_size = int(len(data)*.7)\n",
        "val_size = int(len(data)*.2) + 1\n",
        "test_size = int(len(data)*.1) + 1\n",
        "print(train_size, val_size, test_size, train_size + val_size + test_size)"
      ]
    },
    {
      "cell_type": "code",
      "execution_count": null,
      "metadata": {
        "id": "FOFusLlJn_Hb"
      },
      "outputs": [],
      "source": [
        "train = data.take(train_size)\n",
        "val = data.skip(train_size).take(val_size)\n",
        "test = data.skip(train_size+val_size).take(test_size)"
      ]
    },
    {
      "cell_type": "code",
      "execution_count": null,
      "metadata": {
        "id": "tUFOHSC1oy8p"
      },
      "outputs": [],
      "source": [
        "model1 = tf.keras.models.Sequential()\n",
        "model1.add(tf.keras.layers.Conv2D(32, (3,3), 1, activation=\"relu\", input_shape=(256,256,3)))\n",
        "model1.add(tf.keras.layers.MaxPooling2D((2,2)))\n",
        "model1.add(tf.keras.layers.Conv2D(64, (3,3), 1, activation=\"relu\"))\n",
        "model1.add(tf.keras.layers.MaxPooling2D((2,2)))\n",
        "model1.add(tf.keras.layers.Conv2D(32, (3,3), 1, activation=\"relu\"))\n",
        "model1.add(tf.keras.layers.MaxPooling2D((2,2)))\n",
        "\n",
        "model1.add(tf.keras.layers.Dropout(0.6))\n",
        "model1.add(tf.keras.layers.Flatten())\n",
        "model1.add(tf.keras.layers.Dense(512, activation=\"relu\"))\n",
        "model1.add(tf.keras.layers.Dense(1, activation=\"sigmoid\"))\n",
        "print(model1.summary())"
      ]
    },
    {
      "cell_type": "code",
      "execution_count": null,
      "metadata": {
        "id": "eB0auTGAqLqT"
      },
      "outputs": [],
      "source": [
        "model1.compile(optimizer=\"adam\", loss=tf.losses.BinaryCrossentropy(), metrics=[\"accuracy\"])"
      ]
    },
    {
      "cell_type": "code",
      "execution_count": null,
      "metadata": {
        "id": "LUOi4GhLrMK7"
      },
      "outputs": [],
      "source": [
        "model1.fit(train, epochs=30, validation_data=val)"
      ]
    },
    {
      "cell_type": "code",
      "execution_count": null,
      "metadata": {
        "id": "I2Wf0ThvuQ4O"
      },
      "outputs": [],
      "source": [
        "os.chdir(\"/content\")\n",
        "model1.save(\"Bird_classifier.h5\")"
      ]
    },
    {
      "cell_type": "code",
      "execution_count": null,
      "metadata": {
        "id": "w2UhlRE-uaxZ"
      },
      "outputs": [],
      "source": [
        "# model1 = tf.keras.models.load_model(\"Bird_classifier.h5\")"
      ]
    },
    {
      "cell_type": "code",
      "execution_count": null,
      "metadata": {
        "id": "TunLYYjDv3UX"
      },
      "outputs": [],
      "source": [
        "precision = tf.keras.metrics.Precision()\n",
        "recall = tf.keras.metrics.Recall()\n",
        "accuracy = tf.keras.metrics.BinaryAccuracy()\n",
        "for batch in test.as_numpy_iterator():\n",
        "  X, y = batch\n",
        "  yhat = model1.predict(X)\n",
        "  precision.update_state(y, yhat)\n",
        "  recall.update_state(y, yhat)\n",
        "  accuracy.update_state(y, yhat)"
      ]
    },
    {
      "cell_type": "code",
      "execution_count": null,
      "metadata": {
        "id": "76yycMI0w7nB"
      },
      "outputs": [],
      "source": [
        "print(f\"Precision: {precision.result().numpy()}, Recall: {recall.result().numpy()}, Accuracy {accuracy.result().numpy()}\")"
      ]
    },
    {
      "cell_type": "code",
      "execution_count": null,
      "metadata": {
        "id": "SDyqciXgz2Xo"
      },
      "outputs": [],
      "source": [
        "# img = cv2.imread(\"/content/image-small.jpg\")\n",
        "# img = np.array(tf.image.resize(img, (256,256))).astype(int)\n",
        "# plt.imshow(img)\n",
        "# img = img.reshape((1,256,256,3)) / 255\n",
        "# print(model1.predict(img))"
      ]
    }
  ],
  "metadata": {
    "colab": {
      "collapsed_sections": [],
      "name": "Bird Classifier.ipynb",
      "provenance": []
    },
    "gpuClass": "standard",
    "kernelspec": {
      "display_name": "Python 3",
      "name": "python3"
    },
    "language_info": {
      "name": "python"
    },
    "accelerator": "GPU"
  },
  "nbformat": 4,
  "nbformat_minor": 0
}